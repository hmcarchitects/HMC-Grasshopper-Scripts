{
    "![Kernel & front-end diagram](img/HMC_DigitalPractice_Template.png)"
   ]
  }
